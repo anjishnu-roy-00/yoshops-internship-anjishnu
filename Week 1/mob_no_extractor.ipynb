{
 "cells": [
  {
   "cell_type": "code",
   "execution_count": 5,
   "metadata": {},
   "outputs": [],
   "source": [
    "import re\n",
    "import pandas as pd\n",
    "import textract\n",
    "import docx2txt"
   ]
  },
  {
   "cell_type": "code",
   "execution_count": 9,
   "metadata": {},
   "outputs": [
    {
     "data": {
      "text/plain": [
       "b'My name is Anjishnu Roy. My phone number is 9908743567. What is your phone number? My phone number is 9076512345. His phone number is 9832112378.'"
      ]
     },
     "execution_count": 9,
     "metadata": {},
     "output_type": "execute_result"
    }
   ],
   "source": [
    "text = textract.process(\"./read.docx\")\n",
    "text"
   ]
  },
  {
   "cell_type": "code",
   "execution_count": 7,
   "metadata": {},
   "outputs": [
    {
     "name": "stdout",
     "output_type": "stream",
     "text": [
      "My name is Anjishnu Roy. My phone number is 9908743567. What is your phone number? My phone number is 9076512345. His phone number is 9832112378.\n"
     ]
    }
   ],
   "source": [
    "my_text = docx2txt.process(\"./read.docx\")\n",
    "print(my_text)"
   ]
  },
  {
   "cell_type": "code",
   "execution_count": 11,
   "metadata": {},
   "outputs": [
    {
     "name": "stdout",
     "output_type": "stream",
     "text": [
      "9908743567\n",
      "9076512345\n",
      "9832112378\n"
     ]
    }
   ],
   "source": [
    "for i in re.findall(r'\\b[789]\\d{9}\\b', my_text):\n",
    "    print(i)"
   ]
  }
 ],
 "metadata": {
  "kernelspec": {
   "display_name": "Python 3",
   "language": "python",
   "name": "python3"
  },
  "language_info": {
   "codemirror_mode": {
    "name": "ipython",
    "version": 3
   },
   "file_extension": ".py",
   "mimetype": "text/x-python",
   "name": "python",
   "nbconvert_exporter": "python",
   "pygments_lexer": "ipython3",
   "version": "3.9.7"
  },
  "orig_nbformat": 4,
  "vscode": {
   "interpreter": {
    "hash": "feab381526f647474cffbc9060a5506e3755a2cd8e52a3e61db77dba68a3295a"
   }
  }
 },
 "nbformat": 4,
 "nbformat_minor": 2
}
