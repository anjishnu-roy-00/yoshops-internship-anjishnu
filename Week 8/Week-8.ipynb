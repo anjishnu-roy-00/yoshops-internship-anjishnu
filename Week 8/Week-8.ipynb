{
 "cells": [
  {
   "attachments": {},
   "cell_type": "markdown",
   "metadata": {},
   "source": [
    "<h1> Task 8 : Billing System </h1>"
   ]
  },
  {
   "cell_type": "code",
   "execution_count": 1,
   "metadata": {},
   "outputs": [],
   "source": [
    "import pandas as pd\n",
    "import matplotlib.pyplot as plt\n",
    "import numpy as np"
   ]
  },
  {
   "cell_type": "code",
   "execution_count": 12,
   "metadata": {},
   "outputs": [],
   "source": [
    "name_person = 'Name'\n",
    "phone_no = 'Contact Number'\n",
    "food_item_no = 'Food Item No'\n",
    "#b_name = 'Biryani Name'\n",
    "Quantity_biryani = 'Quantity'"
   ]
  },
  {
   "cell_type": "code",
   "execution_count": 18,
   "metadata": {},
   "outputs": [],
   "source": [
    "def biryani_billing_system(name,contact,foods):\n",
    "    sum = 0\n",
    "    food_dict = {\n",
    "    1: \"Chicken Biriryani(1 KG)   \",\n",
    "    2: \"Chicken Biriyani(1/2 KG)  \",\n",
    "    3: \"Chicken Biriyani(1/4 KG)  \",\n",
    "    4: \"Kushka(1 KG)              \",\n",
    "    5: \"Kushka(1/2 KG)            \",\n",
    "    6: \"Kushka(1/4 KG)            \",\n",
    "    7: \"Egg Biriyani(1 KG)        \",\n",
    "    8: \"Egg Biriyani(1/2 KG)      \",\n",
    "    9: \"Mutton Biriyani(1 KG)     \",\n",
    "    10: \"Mutton Biriyani(1/2 KG)  \",\n",
    "    11: \"Chicken Pakodai(100 gms) \"\n",
    "    }\n",
    "    prices_dict ={\n",
    "    1: 170,\n",
    "    2: 120,\n",
    "    3: 80,\n",
    "    4: 110,\n",
    "    5: 70,\n",
    "    6: 50,\n",
    "    7: 120,\n",
    "    8: 80,\n",
    "    9: 260,\n",
    "    10: 190,\n",
    "    11: 60\n",
    "    }\n",
    "    print('-' * 55)\n",
    "    print('\\t\\tAMBUR BIRYANI\\t\\t')\n",
    "    print('-' * 55)\n",
    "    print(f\"{name_person.upper()}\\t\\t\\t\\t\\t{name}\")\n",
    "    print(' ' * 55)\n",
    "    print(f\"{phone_no.upper()}\\t\\t\\t\\t{contact}\")\n",
    "    print(' ' * 55)\n",
    "    for elem in foods:\n",
    "        b_name = food_dict[elem]\n",
    "        price = prices_dict[elem]\n",
    "        print(f\"{b_name.upper()}\\t\\t{price}\")\n",
    "        sum += price\n",
    "    print(' ' * 55)\n",
    "    print(f'TOTAL\\t\\t\\t\\t\\t{sum}')\n",
    "    print('\\n')"
   ]
  },
  {
   "attachments": {},
   "cell_type": "markdown",
   "metadata": {},
   "source": [
    "<pre>\n",
    "Refer to this List to order Food, Select only the numbers separated by space.\n",
    "    1: \"Chicken Biriryani(1 KG)\",\n",
    "    2: \"Chicken Biriyani(1/2 KG)\",\n",
    "    3: \"Chicken Biriyani(1/4 KG)\",\n",
    "    4: \"Kushka(1 KG)\",\n",
    "    5: \"Kushka(1/2 KG)\",\n",
    "    6: \"Kushka(1/4 KG)\",\n",
    "    7: \"Egg Biriyani(1 KG)\",\n",
    "    8: \"Egg Biriyani(1/2 KG)\",\n",
    "    9: \"Mutton Biriyani(1 KG)\",\n",
    "    10: \"Mutton Biriyani(1/2 KG)\",\n",
    "    11: \"Chicken Pakodai(100 gms)\"\n",
    "</pre>"
   ]
  },
  {
   "cell_type": "code",
   "execution_count": 19,
   "metadata": {},
   "outputs": [
    {
     "name": "stdout",
     "output_type": "stream",
     "text": [
      "[3, 5, 10]\n",
      "-------------------------------------------------------\n",
      "\t\tAMBUR BIRYANI\t\t\n",
      "-------------------------------------------------------\n",
      "NAME\t\t\t\t\tAnjishnu Roy\n",
      "                                                       \n",
      "CONTACT NUMBER\t\t\t\t9999911111\n",
      "                                                       \n",
      "CHICKEN BIRIYANI(1/4 KG)  \t\t80\n",
      "KUSHKA(1/2 KG)            \t\t70\n",
      "MUTTON BIRIYANI(1/2 KG)  \t\t190\n",
      "                                                       \n",
      "TOTAL\t\t\t\t\t340\n",
      "\n",
      "\n"
     ]
    }
   ],
   "source": [
    "name = input(\"Enter the nustomers name\")\n",
    "con = input(\"Enter the customer's contact no.\")\n",
    "a = list(map(int, \n",
    "    input(\"\\nEnter the Food Item No.s : \").strip().split()))\n",
    "print(a)\n",
    "biryani_billing_system(name,con,a)"
   ]
  }
 ],
 "metadata": {
  "kernelspec": {
   "display_name": "Python 3",
   "language": "python",
   "name": "python3"
  },
  "language_info": {
   "codemirror_mode": {
    "name": "ipython",
    "version": 3
   },
   "file_extension": ".py",
   "mimetype": "text/x-python",
   "name": "python",
   "nbconvert_exporter": "python",
   "pygments_lexer": "ipython3",
   "version": "3.9.7"
  },
  "orig_nbformat": 4
 },
 "nbformat": 4,
 "nbformat_minor": 2
}
